{
  "nbformat": 4,
  "nbformat_minor": 0,
  "metadata": {
    "colab": {
      "provenance": []
    },
    "kernelspec": {
      "name": "python3",
      "display_name": "Python 3"
    },
    "language_info": {
      "name": "python"
    }
  },
  "cells": [
    {
      "cell_type": "code",
      "execution_count": 10,
      "metadata": {
        "id": "ZIjtJIuBVcBC"
      },
      "outputs": [],
      "source": [
        "import requests"
      ]
    },
    {
      "cell_type": "code",
      "source": [
        "RA = input(\"Digite o ultimo digito do seu RA: \")\n",
        "print(RA)"
      ],
      "metadata": {
        "colab": {
          "base_uri": "https://localhost:8080/"
        },
        "id": "S42KodLETlGo",
        "outputId": "521e8448-4fa6-4d4b-c7ac-74402510c68a"
      },
      "execution_count": 18,
      "outputs": [
        {
          "output_type": "stream",
          "name": "stdout",
          "text": [
            "Digite o ultimo digito do seu RA: 6\n",
            "6\n"
          ]
        }
      ]
    },
    {
      "cell_type": "code",
      "source": [
        "print(\"1-Fhaz  2-Rhaz  3-Mast  4-Chemcam  5-Mahli  6-Mardi  7-Navcam  8-Pancam  9 & 0-Minites\")\n",
        "Robo = str(input(\"De acordo com o ultimo número do seu RA, qual é o nome do seu robo? \"))\n",
        "Robo = Robo.lower()\n",
        "print(Robo)\n"
      ],
      "metadata": {
        "colab": {
          "base_uri": "https://localhost:8080/"
        },
        "id": "yjmMc4SYHFIf",
        "outputId": "c6e64c5f-ed4e-4c87-aa3d-fadd049a03a9"
      },
      "execution_count": 19,
      "outputs": [
        {
          "output_type": "stream",
          "name": "stdout",
          "text": [
            "1-Fhaz  2-Rhaz  3-Mast  4-Chemcam  5-Mahli  6-Mardi  7-Navcam  8-Pancam  9 & 0-Minites\n",
            "De acordo com o ultimo número do seu RA, qual é o seu robo? mardi\n",
            "mardi\n"
          ]
        }
      ]
    },
    {
      "cell_type": "code",
      "source": [
        "resposta = requests.get(f\"https://api.nasa.gov/mars-photos/api/v1/rovers/curiosity/photos?sol=1000&camera=fhaz&api_key=DEMO_KEY\")\n",
        "print(resposta)\n",
        "x = resposta.json()[\"photos\"][0][\"img_src\"]\n",
        "print(\"Esse e o link da imagem baseada no ultimo digito do seu RA: \", x)"
      ],
      "metadata": {
        "colab": {
          "base_uri": "https://localhost:8080/"
        },
        "id": "KrxXZ5XiZE6o",
        "outputId": "3abfaeac-07a5-4526-df2d-0084d6267ef0"
      },
      "execution_count": 20,
      "outputs": [
        {
          "output_type": "stream",
          "name": "stdout",
          "text": [
            "<Response [200]>\n",
            "O link da imagem tirada do seu RA é:  http://mars.jpl.nasa.gov/msl-raw-images/proj/msl/redops/ods/surface/sol/01000/opgs/edr/fcam/FLB_486265257EDR_F0481570FHAZ00323M_.JPG\n"
          ]
        }
      ]
    }
  ]
}